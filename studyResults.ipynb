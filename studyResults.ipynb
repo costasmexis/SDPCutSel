{
 "cells": [
  {
   "cell_type": "code",
   "execution_count": 1,
   "id": "215e737d",
   "metadata": {},
   "outputs": [],
   "source": [
    "import pandas as pd\n",
    "import numpy as np\n",
    "import glob\n",
    "import pickle\n",
    "import comex_algoritms as cm\n",
    "\n",
    "\n",
    "import seaborn as sns\n",
    "import matplotlib.pyplot as plt\n",
    "import matplotlib"
   ]
  },
  {
   "cell_type": "code",
   "execution_count": 2,
   "id": "8a08a98f",
   "metadata": {},
   "outputs": [],
   "source": [
    "def _read_rank_list(filename):\n",
    "    with open(filename, 'rb') as f:\n",
    "        rank_list = pickle.load(f)\n",
    " \n",
    "    rank_list = pd.DataFrame(rank_list)\n",
    "    return rank_list\n",
    "\n",
    "def plot_heatmap(plot_df, row):\n",
    "    # Create a heatmap using seaborn\n",
    "    plt.figure(figsize=(12, 8))\n",
    "    original_cmap = 'PuBuGn'\n",
    "    cmap = matplotlib.colormaps[original_cmap]\n",
    "    inverse_cmap = cmap.reversed()    \n",
    "    \n",
    "    sns.heatmap(plot_df, cmap=cmap, xticklabels=False, yticklabels=False)\n",
    "    \n",
    "    # Draw rectangle edges\n",
    "    plt.gca().set_frame_on(True)\n",
    "    plt.gca().patch.set_edgecolor('black')\n",
    "    plt.gca().patch.set_linewidth(1)\n",
    "    \n",
    "    plt.title('Selection of Dimensions Heatmap')\n",
    "    plt.savefig(f'plots/heatmap_{row}.png')\n",
    "    plt.show()\n",
    "    \n",
    "def calculate_doubles(rank_list):\n",
    "    doubles = []\n",
    "    for row in range(len(rank_list)):\n",
    "        A = rank_list.iloc[row]['A']\n",
    "        B = rank_list.iloc[row]['B']\n",
    "        C = rank_list.iloc[row]['C']\n",
    "\n",
    "        doubles.append(f'{A},{B}')\n",
    "        doubles.append(f'{A},{C}')\n",
    "        doubles.append(f'{B},{C}')\n",
    "    \n",
    "    doubles = pd.DataFrame(doubles).value_counts()\n",
    "    unique_doubles = pd.DataFrame()\n",
    "    unique_doubles['double']=doubles.index.values\n",
    "    unique_doubles['count'] = doubles.values\n",
    "    return unique_doubles\n",
    "\n",
    "def plot_doubles(unique_doubles, row):\n",
    "    x=unique_doubles[:20]['double'].astype(str)\n",
    "    y=unique_doubles[:20]['count']\n",
    "    plt.bar(x, y, color='skyblue', edgecolor='black')\n",
    "\n",
    "    # Adding labels and title\n",
    "    plt.xlabel('Triplets')\n",
    "    plt.ylabel('Count')\n",
    "    plt.title('Top 20 Triplets Frequency')\n",
    "\n",
    "    plt.xticks(rotation=45)\n",
    "\n",
    "    plt.grid(axis='y', linestyle='--')\n",
    "\n",
    "    for i, value in enumerate(y):\n",
    "        plt.text(i, value, str(value), ha='center', va='bottom')\n",
    "\n",
    "    plt.tight_layout()\n",
    "    plt.savefig(f'plots/bar_plot_{row}.png')\n",
    "    plt.show()"
   ]
  },
  {
   "cell_type": "code",
   "execution_count": 3,
   "id": "c2b1d6f0",
   "metadata": {},
   "outputs": [
    {
     "name": "stdout",
     "output_type": "stream",
     "text": [
      "(1985, 7)\n"
     ]
    }
   ],
   "source": [
    "# Get all CSV files in the folder starting with \"rank\"\n",
    "pickle_files = glob.glob(\"temp_files/rank_list_*.pickle\")\n",
    "# Concatenate all DataFrames into a single DataFrame\n",
    "rank_list = pd.concat(_read_rank_list(f) for f in pickle_files)\n",
    "\n",
    "rank_list.reset_index(inplace=True, drop=True)\n",
    "rank_list['cut_round'] = (rank_list.index // 100) + 1 \n",
    "\n",
    "print(rank_list.shape)"
   ]
  },
  {
   "cell_type": "code",
   "execution_count": 5,
   "id": "edbf5dad",
   "metadata": {},
   "outputs": [],
   "source": [
    "sparse = cm._rank_list_to_sparse(rank_list)\n",
    "\n",
    "plot_df = pd.DataFrame(columns=sparse.columns, index=sparse.columns)\n",
    "plot_df.fillna(0, inplace=True)"
   ]
  },
  {
   "cell_type": "markdown",
   "id": "8348baa9",
   "metadata": {},
   "source": [
    "### Heatmap for `iter=1`"
   ]
  },
  {
   "cell_type": "code",
   "execution_count": null,
   "id": "be2789bf",
   "metadata": {},
   "outputs": [],
   "source": [
    "plot_df = pd.DataFrame(columns=sparse.columns, index=sparse.columns)\n",
    "plot_df.fillna(0, inplace=True)\n",
    "\n",
    "for row in range(len(rank_list[:200])+1):\n",
    "    curr_cut = rank_list[1].iloc[row]\n",
    "    a = curr_cut[0]\n",
    "    b = curr_cut[1]\n",
    "    c = curr_cut[2]\n",
    "    \n",
    "    plot_df[f'col_{a}'].loc[f'col_{b}'] += 1\n",
    "    plot_df[f'col_{a}'].loc[f'col_{c}'] += 1\n",
    "\n",
    "    plot_df[f'col_{b}'].loc[f'col_{a}'] += 1\n",
    "    plot_df[f'col_{b}'].loc[f'col_{c}'] += 1\n",
    "\n",
    "    plot_df[f'col_{c}'].loc[f'col_{a}'] += 1\n",
    "    plot_df[f'col_{c}'].loc[f'col_{b}'] += 1\n",
    "\n",
    "    if (row % 20 == 0) and (row>19):\n",
    "        print(row)\n",
    "        plot_heatmap(plot_df, row)"
   ]
  },
  {
   "cell_type": "markdown",
   "id": "86cf755c",
   "metadata": {},
   "source": [
    "### Heatmap for `iter=2`"
   ]
  },
  {
   "cell_type": "code",
   "execution_count": null,
   "id": "1d612463",
   "metadata": {},
   "outputs": [],
   "source": [
    "rank_list = rank_list[100:201].reset_index(drop=True)\n",
    "sparse = cm._rank_list_to_sparse(rank_list)\n",
    "\n",
    "plot_df = pd.DataFrame(columns=sparse.columns, index=sparse.columns)\n",
    "plot_df.fillna(0, inplace=True)\n",
    "\n",
    "for row in range(len(rank_list[:100])+1):\n",
    "    curr_cut = rank_list[1].iloc[row]\n",
    "    a = curr_cut[0]\n",
    "    b = curr_cut[1]\n",
    "    c = curr_cut[2]\n",
    "    \n",
    "    plot_df[f'col_{a}'].loc[f'col_{b}'] += 1\n",
    "    plot_df[f'col_{a}'].loc[f'col_{c}'] += 1\n",
    "\n",
    "    plot_df[f'col_{b}'].loc[f'col_{a}'] += 1\n",
    "    plot_df[f'col_{b}'].loc[f'col_{c}'] += 1\n",
    "\n",
    "    plot_df[f'col_{c}'].loc[f'col_{a}'] += 1\n",
    "    plot_df[f'col_{c}'].loc[f'col_{b}'] += 1\n",
    "\n",
    "    if (row % 20 == 0) and (row>19):\n",
    "        print(row+100)\n",
    "        plot_heatmap(plot_df, row+1000)"
   ]
  },
  {
   "cell_type": "markdown",
   "id": "6c524b81",
   "metadata": {},
   "source": [
    "## Study doubles-triples-singles"
   ]
  },
  {
   "cell_type": "code",
   "execution_count": 7,
   "id": "d629ea43",
   "metadata": {},
   "outputs": [
    {
     "name": "stdout",
     "output_type": "stream",
     "text": [
      "(1985, 10)\n"
     ]
    }
   ],
   "source": [
    "# Get all CSV files in the folder starting with \"rank\"\n",
    "pickle_files = glob.glob(\"temp_files/rank_list_*.pickle\")\n",
    "# Concatenate all DataFrames into a single DataFrame\n",
    "rank_list = pd.concat(_read_rank_list(f) for f in pickle_files)\n",
    "\n",
    "rank_list.reset_index(inplace=True, drop=True)\n",
    "rank_list['cut_round'] = (rank_list.index // 100) + 1 \n",
    "\n",
    "sparse = cm._rank_list_to_sparse(rank_list)\n",
    "\n",
    "plot_df = pd.DataFrame(columns=sparse.columns, index=sparse.columns)\n",
    "plot_df.fillna(0, inplace=True)\n",
    "\n",
    "print(rank_list.shape)"
   ]
  },
  {
   "cell_type": "code",
   "execution_count": 17,
   "id": "7db96da0",
   "metadata": {},
   "outputs": [
    {
     "name": "stdout",
     "output_type": "stream",
     "text": [
      "8\n",
      "0\n",
      "0\n",
      "0\n",
      "1\n",
      "0\n",
      "2\n",
      "0\n",
      "2\n",
      "0\n",
      "2\n",
      "4\n",
      "0\n",
      "0\n",
      "0\n",
      "0\n",
      "0\n",
      "1\n",
      "0\n",
      "0\n"
     ]
    }
   ],
   "source": [
    "for i in range(0, 2000, 100):\n",
    "    j = i+100\n",
    "    unique_doubles = calculate_doubles(rank_list[i:j])\n",
    "    print(len(unique_doubles[unique_doubles['count']>3]))"
   ]
  },
  {
   "cell_type": "code",
   "execution_count": null,
   "id": "abffbcf7",
   "metadata": {},
   "outputs": [],
   "source": [
    "def calculate_doubles(rank_list):\n",
    "    doubles = []\n",
    "    singles = []\n",
    "    for row in range(len(rank_list)):\n",
    "        A = rank_list.iloc[row]['A']\n",
    "        B = rank_list.iloc[row]['B']\n",
    "        C = rank_list.iloc[row]['C']\n",
    "\n",
    "        doubles.append(f'{A},{B}')\n",
    "        doubles.append(f'{A},{C}')\n",
    "        doubles.append(f'{B},{C}')\n",
    "        \n",
    "        singles.append(f'{A}')\n",
    "        singles.append(f'{B}')\n",
    "        singles.append(f'{C}')\n",
    "    \n",
    "    doubles = pd.DataFrame(doubles).value_counts()\n",
    "    unique_doubles = pd.DataFrame()\n",
    "    unique_doubles['double']=doubles.index.values\n",
    "    unique_doubles['count'] = doubles.values\n",
    "    \n",
    "    singles = pd.DataFrame(singles).value_counts()\n",
    "    unique_singles = pd.DataFrame()\n",
    "    unique_singles['single']=singles.index.values\n",
    "    unique_singles['count'] = singles.values\n",
    "\n",
    "    return unique_singles, unique_doubles\n",
    "\n",
    "unique_singles, unique_doubles = calculate_doubles(rank_list)"
   ]
  },
  {
   "cell_type": "code",
   "execution_count": null,
   "id": "a40fe751",
   "metadata": {},
   "outputs": [],
   "source": [
    "unique_singles"
   ]
  },
  {
   "cell_type": "code",
   "execution_count": null,
   "id": "1f6223d7",
   "metadata": {},
   "outputs": [],
   "source": []
  },
  {
   "cell_type": "code",
   "execution_count": null,
   "id": "b1540b00",
   "metadata": {},
   "outputs": [],
   "source": [
    "unique_singles['count'].sum()"
   ]
  }
 ],
 "metadata": {
  "kernelspec": {
   "display_name": "Python 3 (ipykernel)",
   "language": "python",
   "name": "python3"
  },
  "language_info": {
   "codemirror_mode": {
    "name": "ipython",
    "version": 3
   },
   "file_extension": ".py",
   "mimetype": "text/x-python",
   "name": "python",
   "nbconvert_exporter": "python",
   "pygments_lexer": "ipython3",
   "version": "3.11.2"
  }
 },
 "nbformat": 4,
 "nbformat_minor": 5
}
