{
 "cells": [
  {
   "cell_type": "code",
   "execution_count": 1,
   "id": "6895cc26",
   "metadata": {},
   "outputs": [],
   "source": [
    "import pandas as pd\n",
    "import numpy as np\n",
    "import json\n",
    "import ast\n",
    "import pickle"
   ]
  },
  {
   "cell_type": "markdown",
   "id": "7061f806",
   "metadata": {},
   "source": [
    "#  Functions"
   ]
  },
  {
   "cell_type": "code",
   "execution_count": 2,
   "id": "62cfcaf8",
   "metadata": {},
   "outputs": [],
   "source": [
    "def _create_sparse_df(df):\n",
    "    # # ***** create sparse one-hot encoded dataset *******\n",
    "    X = pd.DataFrame(0, index=range(df.shape[0]), columns=['col_{}'.format(i) for i in range(70)])\n",
    "\n",
    "    def set_values(row):\n",
    "        A = row['A']\n",
    "        B = row['B']\n",
    "        C = row['C']\n",
    "        X.loc[row.name, 'col_{}'.format(A)] = 1\n",
    "        X.loc[row.name, 'col_{}'.format(B)] = 1\n",
    "        X.loc[row.name, 'col_{}'.format(C)] = 1\n",
    "\n",
    "    df.apply(set_values, axis=1)\n",
    "\n",
    "    X = pd.get_dummies(df[['A', 'B', 'C']], columns=['A', 'B', 'C'], prefix='col')\n",
    "    X = X.groupby(level=0, axis=1).max()\n",
    "\n",
    "    X['feasibility'] = df['2'].copy()\n",
    "    X['optimality'] = df['5'].copy()\n",
    "    return X\n",
    "\n",
    "def _read_df(num):\n",
    "    FILENAME = 'temp_files/temp_df_pop_{}.csv'.format(num)\n",
    "    \n",
    "    df = pd.read_csv(FILENAME)\n",
    "    df['1'] = df['1'].apply(lambda x: json.loads(x))\n",
    "    df['3'] = df['3'].apply(lambda x: ast.literal_eval(x))\n",
    "    df['3'] = [list(t) for t in df['3']]\n",
    "    df[['A', 'B', 'C']] = df['1'].apply(lambda x: pd.Series(x))\n",
    "    df.drop(columns=['3','4'], inplace=True)\n",
    "    return df\n",
    "\n",
    "def _read_rank_list(num):\n",
    "    FILENAME = 'temp_files/rank_list_{}.pickle'.format(num)\n",
    "    \n",
    "    with open(FILENAME, 'rb') as f:\n",
    "        rank_list = pickle.load(f)\n",
    "        \n",
    "    rank_list = pd.DataFrame(rank_list)\n",
    "    return rank_list"
   ]
  },
  {
   "cell_type": "markdown",
   "id": "1128a92c",
   "metadata": {},
   "source": [
    "# Read data"
   ]
  },
  {
   "cell_type": "code",
   "execution_count": 3,
   "id": "eb053389",
   "metadata": {},
   "outputs": [],
   "source": [
    "df_1 = _read_df(1)\n",
    "rank_list_1 = _read_rank_list(1)\n",
    "\n",
    "df_2 = _read_df(2)\n",
    "rank_list_2 = _read_rank_list(2)"
   ]
  },
  {
   "cell_type": "code",
   "execution_count": 4,
   "id": "aa658f3f",
   "metadata": {},
   "outputs": [],
   "source": [
    "rank_list_elm  = rank_list_1[0].values\n",
    "idx = df_1[df_1['0'].isin(rank_list_elm)].index \n",
    "df_1['selected'] = 0\n",
    "# Set a value in the 'A' column of the selected rows\n",
    "df_1.loc[idx, 'selected'] = 1\n",
    "\n",
    "rank_list_elm  = rank_list_2[0].values\n",
    "idx = df_2[df_2['0'].isin(rank_list_elm)].index \n",
    "df_2['selected'] = 0\n",
    "# Set a value in the 'A' column of the selected rows\n",
    "df_2.loc[idx, 'selected'] = 1"
   ]
  },
  {
   "cell_type": "code",
   "execution_count": 5,
   "id": "16c70596",
   "metadata": {},
   "outputs": [
    {
     "name": "stdout",
     "output_type": "stream",
     "text": [
      "(5007, 4) (3789, 4)\n"
     ]
    }
   ],
   "source": [
    "from sklearn.linear_model import LogisticRegression\n",
    "from sklearn.tree import DecisionTreeClassifier\n",
    "from sklearn.model_selection import train_test_split\n",
    "from sklearn.metrics import matthews_corrcoef\n",
    "from sklearn.model_selection import GridSearchCV\n",
    "from sklearn.svm import SVC\n",
    "\n",
    "X_train = df_1[['A','B','C','2']].copy()\n",
    "y_train = df_1['selected'].copy()\n",
    "\n",
    "X_test = df_2[['A','B','C','2']].copy()\n",
    "y_test = df_2['selected'].copy()\n",
    "\n",
    "print(X_train.shape, X_test.shape)"
   ]
  },
  {
   "cell_type": "markdown",
   "id": "5956db3e",
   "metadata": {},
   "source": [
    "# Over/under sampling techniques"
   ]
  },
  {
   "cell_type": "code",
   "execution_count": 6,
   "id": "478225c0",
   "metadata": {},
   "outputs": [],
   "source": [
    "from imblearn.under_sampling import RandomUnderSampler\n",
    "\n",
    "# Create an instance of the RandomUnderSampler class\n",
    "rus = RandomUnderSampler()\n",
    "\n",
    "# Perform undersampling on the feature and target data\n",
    "X_train, y_train = rus.fit_resample(X_train, y_train)"
   ]
  },
  {
   "cell_type": "code",
   "execution_count": null,
   "id": "3702ef1f",
   "metadata": {
    "scrolled": true
   },
   "outputs": [
    {
     "name": "stdout",
     "output_type": "stream",
     "text": [
      "Fitting 3 folds for each of 18 candidates, totalling 54 fits\n",
      "[CV 1/3] END .C=0.1, gamma=scale, kernel=linear;, score=0.524 total time=   0.0s\n",
      "[CV 2/3] END .C=0.1, gamma=scale, kernel=linear;, score=0.493 total time=   0.0s\n",
      "[CV 3/3] END C=0.1, gamma=scale, kernel=linear;, score=-0.393 total time=   0.0s\n",
      "[CV 1/3] END ...C=0.1, gamma=scale, kernel=poly;, score=0.227 total time=   0.0s\n",
      "[CV 2/3] END ...C=0.1, gamma=scale, kernel=poly;, score=0.257 total time=   0.0s\n",
      "[CV 3/3] END ..C=0.1, gamma=scale, kernel=poly;, score=-0.368 total time=   0.0s\n",
      "[CV 1/3] END ....C=0.1, gamma=scale, kernel=rbf;, score=0.000 total time=   0.0s\n",
      "[CV 2/3] END ....C=0.1, gamma=scale, kernel=rbf;, score=0.078 total time=   0.0s\n",
      "[CV 3/3] END ...C=0.1, gamma=scale, kernel=rbf;, score=-0.286 total time=   0.0s\n",
      "[CV 1/3] END ..C=0.1, gamma=auto, kernel=linear;, score=0.524 total time=   0.0s\n",
      "[CV 2/3] END ..C=0.1, gamma=auto, kernel=linear;, score=0.493 total time=   0.0s\n",
      "[CV 3/3] END .C=0.1, gamma=auto, kernel=linear;, score=-0.393 total time=   0.0s\n"
     ]
    }
   ],
   "source": [
    "# Define the SVM classifier\n",
    "svc = SVC()\n",
    "\n",
    "# Define the hyperparameters to tune and their possible values\n",
    "params = {\n",
    "    'C': [0.1, 1, 10],\n",
    "    'kernel': ['linear', 'rbf']\n",
    "}\n",
    "\n",
    "# Create an instance of the GridSearchCV class\n",
    "grid_search = GridSearchCV(svc, params, cv=3, \n",
    "                           scoring='matthews_corrcoef', verbose=3)\n",
    "\n",
    "# Fit the GridSearchCV object to the data\n",
    "grid_search.fit(X_train, y_train)\n",
    "\n",
    "model = grid_search.best_estimator_\n",
    "model.fit(X_train, y_train)\n",
    "y_pred = model.predict(X_test)\n",
    "\n",
    "score = matthews_corrcoef(y_test, y_pred)\n",
    "print(score)"
   ]
  },
  {
   "cell_type": "code",
   "execution_count": null,
   "id": "ad1f1f28",
   "metadata": {},
   "outputs": [],
   "source": []
  },
  {
   "cell_type": "markdown",
   "id": "bdc88ea7",
   "metadata": {},
   "source": [
    "# Selected Cuts"
   ]
  },
  {
   "cell_type": "code",
   "execution_count": 102,
   "id": "591ced30",
   "metadata": {},
   "outputs": [
    {
     "data": {
      "text/html": [
       "<div>\n",
       "<style scoped>\n",
       "    .dataframe tbody tr th:only-of-type {\n",
       "        vertical-align: middle;\n",
       "    }\n",
       "\n",
       "    .dataframe tbody tr th {\n",
       "        vertical-align: top;\n",
       "    }\n",
       "\n",
       "    .dataframe thead th {\n",
       "        text-align: right;\n",
       "    }\n",
       "</style>\n",
       "<table border=\"1\" class=\"dataframe\">\n",
       "  <thead>\n",
       "    <tr style=\"text-align: right;\">\n",
       "      <th></th>\n",
       "      <th>agg_idx</th>\n",
       "      <th>set_inds</th>\n",
       "      <th>-eigeval</th>\n",
       "      <th>A</th>\n",
       "      <th>B</th>\n",
       "      <th>C</th>\n",
       "    </tr>\n",
       "  </thead>\n",
       "  <tbody>\n",
       "    <tr>\n",
       "      <th>0</th>\n",
       "      <td>1858</td>\n",
       "      <td>[7, 22, 63]</td>\n",
       "      <td>0.724745</td>\n",
       "      <td>7</td>\n",
       "      <td>22</td>\n",
       "      <td>63</td>\n",
       "    </tr>\n",
       "    <tr>\n",
       "      <th>1</th>\n",
       "      <td>2480</td>\n",
       "      <td>[10, 29, 54]</td>\n",
       "      <td>0.724745</td>\n",
       "      <td>10</td>\n",
       "      <td>29</td>\n",
       "      <td>54</td>\n",
       "    </tr>\n",
       "    <tr>\n",
       "      <th>2</th>\n",
       "      <td>1905</td>\n",
       "      <td>[7, 30, 52]</td>\n",
       "      <td>0.724745</td>\n",
       "      <td>7</td>\n",
       "      <td>30</td>\n",
       "      <td>52</td>\n",
       "    </tr>\n",
       "    <tr>\n",
       "      <th>3</th>\n",
       "      <td>4947</td>\n",
       "      <td>[27, 29, 55]</td>\n",
       "      <td>0.724745</td>\n",
       "      <td>27</td>\n",
       "      <td>29</td>\n",
       "      <td>55</td>\n",
       "    </tr>\n",
       "    <tr>\n",
       "      <th>4</th>\n",
       "      <td>1854</td>\n",
       "      <td>[7, 22, 52]</td>\n",
       "      <td>0.724745</td>\n",
       "      <td>7</td>\n",
       "      <td>22</td>\n",
       "      <td>52</td>\n",
       "    </tr>\n",
       "    <tr>\n",
       "      <th>...</th>\n",
       "      <td>...</td>\n",
       "      <td>...</td>\n",
       "      <td>...</td>\n",
       "      <td>...</td>\n",
       "      <td>...</td>\n",
       "      <td>...</td>\n",
       "    </tr>\n",
       "    <tr>\n",
       "      <th>95</th>\n",
       "      <td>3206</td>\n",
       "      <td>[14, 34, 35]</td>\n",
       "      <td>0.018608</td>\n",
       "      <td>14</td>\n",
       "      <td>34</td>\n",
       "      <td>35</td>\n",
       "    </tr>\n",
       "    <tr>\n",
       "      <th>96</th>\n",
       "      <td>1561</td>\n",
       "      <td>[6, 18, 40]</td>\n",
       "      <td>0.018545</td>\n",
       "      <td>6</td>\n",
       "      <td>18</td>\n",
       "      <td>40</td>\n",
       "    </tr>\n",
       "    <tr>\n",
       "      <th>97</th>\n",
       "      <td>698</td>\n",
       "      <td>[2, 38, 60]</td>\n",
       "      <td>0.018490</td>\n",
       "      <td>2</td>\n",
       "      <td>38</td>\n",
       "      <td>60</td>\n",
       "    </tr>\n",
       "    <tr>\n",
       "      <th>98</th>\n",
       "      <td>3528</td>\n",
       "      <td>[16, 42, 45]</td>\n",
       "      <td>0.018445</td>\n",
       "      <td>16</td>\n",
       "      <td>42</td>\n",
       "      <td>45</td>\n",
       "    </tr>\n",
       "    <tr>\n",
       "      <th>99</th>\n",
       "      <td>4361</td>\n",
       "      <td>[22, 31, 66]</td>\n",
       "      <td>0.018218</td>\n",
       "      <td>22</td>\n",
       "      <td>31</td>\n",
       "      <td>66</td>\n",
       "    </tr>\n",
       "  </tbody>\n",
       "</table>\n",
       "<p>2000 rows × 6 columns</p>\n",
       "</div>"
      ],
      "text/plain": [
       "    agg_idx      set_inds  -eigeval   A   B   C\n",
       "0      1858   [7, 22, 63]  0.724745   7  22  63\n",
       "1      2480  [10, 29, 54]  0.724745  10  29  54\n",
       "2      1905   [7, 30, 52]  0.724745   7  30  52\n",
       "3      4947  [27, 29, 55]  0.724745  27  29  55\n",
       "4      1854   [7, 22, 52]  0.724745   7  22  52\n",
       "..      ...           ...       ...  ..  ..  ..\n",
       "95     3206  [14, 34, 35]  0.018608  14  34  35\n",
       "96     1561   [6, 18, 40]  0.018545   6  18  40\n",
       "97      698   [2, 38, 60]  0.018490   2  38  60\n",
       "98     3528  [16, 42, 45]  0.018445  16  42  45\n",
       "99     4361  [22, 31, 66]  0.018218  22  31  66\n",
       "\n",
       "[2000 rows x 6 columns]"
      ]
     },
     "execution_count": 102,
     "metadata": {},
     "output_type": "execute_result"
    }
   ],
   "source": [
    "df = pd.read_csv('Results/DataFrame_clustering.csv', index_col=0)\n",
    "df.drop(['curr_pt', 'Xarr_inds', 'dim_act'], axis=1, inplace=True)\n",
    "df['set_inds'] = df['set_inds'].apply(lambda x: json.loads(x))\n",
    "df[['A', 'B', 'C']] = df['set_inds'].apply(lambda x: pd.Series(x))\n",
    "df"
   ]
  },
  {
   "cell_type": "code",
   "execution_count": 103,
   "id": "e7517b42",
   "metadata": {},
   "outputs": [],
   "source": [
    "X = _create_sparse_df(df)"
   ]
  },
  {
   "cell_type": "code",
   "execution_count": 104,
   "id": "910493f6",
   "metadata": {},
   "outputs": [],
   "source": [
    "df_100 = df[0:100].copy()\n",
    "df_200 = df[100:200].copy()\n",
    "\n",
    "X_100 = _create_sparse_df(df_100)\n",
    "X_200 = _create_sparse_df(df_200)\n",
    "\n",
    "df_1800 = df[1800:1900].copy()\n",
    "df_1900 = df[1900:2000].copy()\n",
    "\n",
    "X_1800 = _create_sparse_df(df_1800)\n",
    "X_1900 = _create_sparse_df(df_1900)"
   ]
  }
 ],
 "metadata": {
  "kernelspec": {
   "display_name": "Python 3 (ipykernel)",
   "language": "python",
   "name": "python3"
  },
  "language_info": {
   "codemirror_mode": {
    "name": "ipython",
    "version": 3
   },
   "file_extension": ".py",
   "mimetype": "text/x-python",
   "name": "python",
   "nbconvert_exporter": "python",
   "pygments_lexer": "ipython3",
   "version": "3.11.2"
  }
 },
 "nbformat": 4,
 "nbformat_minor": 5
}
