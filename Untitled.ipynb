{
 "cells": [
  {
   "cell_type": "code",
   "execution_count": 1,
   "id": "6895cc26",
   "metadata": {},
   "outputs": [],
   "source": [
    "import pandas as pd\n",
    "import numpy as np\n",
    "import json\n",
    "import ast\n",
    "import pickle\n",
    "import glob"
   ]
  },
  {
   "cell_type": "code",
   "execution_count": 2,
   "id": "863918e1",
   "metadata": {},
   "outputs": [],
   "source": [
    "def _read_rank_list(filename):\n",
    "    with open(filename, 'rb') as f:\n",
    "        rank_list = pickle.load(f)\n",
    "        \n",
    "    rank_list = pd.DataFrame(rank_list)\n",
    "    return rank_list\n",
    "\n",
    "\n",
    "def _create_sparse_df(df):\n",
    "    # # ***** create sparse one-hot encoded dataset *******\n",
    "    X = pd.DataFrame(0, index=range(df.shape[0]), \n",
    "                     columns=['col_{}'.format(i) for i in range(70)])\n",
    "\n",
    "    def set_values(row):\n",
    "        A = row['A']\n",
    "        B = row['B']\n",
    "        C = row['C']\n",
    "        X.loc[row.name, 'col_{}'.format(A)] = 1\n",
    "        X.loc[row.name, 'col_{}'.format(B)] = 1\n",
    "        X.loc[row.name, 'col_{}'.format(C)] = 1\n",
    "\n",
    "    df.apply(set_values, axis=1)\n",
    "\n",
    "    X = pd.get_dummies(df[['A', 'B', 'C']], columns=['A', 'B', 'C'], prefix='col')\n",
    "    X = X.groupby(level=0, axis=1).max()\n",
    "\n",
    "#     X['feasibility'] = df[2].copy()\n",
    "    return X"
   ]
  },
  {
   "cell_type": "markdown",
   "id": "6d9cc8fd",
   "metadata": {},
   "source": [
    "## Read and concat all selected cuts"
   ]
  },
  {
   "cell_type": "code",
   "execution_count": 3,
   "id": "f055d472",
   "metadata": {},
   "outputs": [
    {
     "data": {
      "text/plain": [
       "(2000, 6)"
      ]
     },
     "execution_count": 3,
     "metadata": {},
     "output_type": "execute_result"
    }
   ],
   "source": [
    "# Get all CSV files in the folder starting with \"rank\"\n",
    "pickle_files = glob.glob(\"temp_files/rank_list_*.pickle\")\n",
    "\n",
    "dfs = []\n",
    "\n",
    "for f in pickle_files:\n",
    "    temp_rl = _read_rank_list(f)\n",
    "    dfs.append(temp_rl)\n",
    "#     print(temp_rl.shape)\n",
    "    \n",
    "rank_list = pd.concat(dfs)\n",
    "rank_list.shape"
   ]
  },
  {
   "cell_type": "code",
   "execution_count": 4,
   "id": "069cb241",
   "metadata": {},
   "outputs": [
    {
     "data": {
      "text/html": [
       "<div>\n",
       "<style scoped>\n",
       "    .dataframe tbody tr th:only-of-type {\n",
       "        vertical-align: middle;\n",
       "    }\n",
       "\n",
       "    .dataframe tbody tr th {\n",
       "        vertical-align: top;\n",
       "    }\n",
       "\n",
       "    .dataframe thead th {\n",
       "        text-align: right;\n",
       "    }\n",
       "</style>\n",
       "<table border=\"1\" class=\"dataframe\">\n",
       "  <thead>\n",
       "    <tr style=\"text-align: right;\">\n",
       "      <th></th>\n",
       "      <th>1</th>\n",
       "      <th>2</th>\n",
       "      <th>A</th>\n",
       "      <th>B</th>\n",
       "      <th>C</th>\n",
       "    </tr>\n",
       "  </thead>\n",
       "  <tbody>\n",
       "    <tr>\n",
       "      <th>0</th>\n",
       "      <td>[9, 18, 41]</td>\n",
       "      <td>0.500000</td>\n",
       "      <td>9</td>\n",
       "      <td>18</td>\n",
       "      <td>41</td>\n",
       "    </tr>\n",
       "    <tr>\n",
       "      <th>1</th>\n",
       "      <td>[22, 52, 53]</td>\n",
       "      <td>0.724745</td>\n",
       "      <td>22</td>\n",
       "      <td>52</td>\n",
       "      <td>53</td>\n",
       "    </tr>\n",
       "  </tbody>\n",
       "</table>\n",
       "</div>"
      ],
      "text/plain": [
       "              1         2   A   B   C\n",
       "0   [9, 18, 41]  0.500000   9  18  41\n",
       "1  [22, 52, 53]  0.724745  22  52  53"
      ]
     },
     "execution_count": 4,
     "metadata": {},
     "output_type": "execute_result"
    }
   ],
   "source": [
    "rank_list.drop(columns=[0, 3, 4, 5], inplace=True)\n",
    "rank_list[['A', 'B', 'C']] = rank_list[1].apply(lambda x: pd.Series(x))\n",
    "rank_list[1] = rank_list[1].astype(str)\n",
    "rank_list.reset_index(drop=True, inplace=True)\n",
    "rank_list.head(2)"
   ]
  },
  {
   "cell_type": "code",
   "execution_count": 5,
   "id": "6307fc1c",
   "metadata": {},
   "outputs": [],
   "source": [
    "rank_list = rank_list.rename(columns={2:'2'})"
   ]
  },
  {
   "cell_type": "code",
   "execution_count": 6,
   "id": "ecfba794",
   "metadata": {},
   "outputs": [
    {
     "data": {
      "text/html": [
       "<div>\n",
       "<style scoped>\n",
       "    .dataframe tbody tr th:only-of-type {\n",
       "        vertical-align: middle;\n",
       "    }\n",
       "\n",
       "    .dataframe tbody tr th {\n",
       "        vertical-align: top;\n",
       "    }\n",
       "\n",
       "    .dataframe thead th {\n",
       "        text-align: right;\n",
       "    }\n",
       "</style>\n",
       "<table border=\"1\" class=\"dataframe\">\n",
       "  <thead>\n",
       "    <tr style=\"text-align: right;\">\n",
       "      <th></th>\n",
       "      <th>1</th>\n",
       "      <th>2</th>\n",
       "      <th>A</th>\n",
       "      <th>B</th>\n",
       "      <th>C</th>\n",
       "    </tr>\n",
       "  </thead>\n",
       "  <tbody>\n",
       "    <tr>\n",
       "      <th>1089</th>\n",
       "      <td>[0, 10, 20]</td>\n",
       "      <td>0.018487</td>\n",
       "      <td>0</td>\n",
       "      <td>10</td>\n",
       "      <td>20</td>\n",
       "    </tr>\n",
       "    <tr>\n",
       "      <th>1985</th>\n",
       "      <td>[0, 10, 37]</td>\n",
       "      <td>0.236417</td>\n",
       "      <td>0</td>\n",
       "      <td>10</td>\n",
       "      <td>37</td>\n",
       "    </tr>\n",
       "    <tr>\n",
       "      <th>1212</th>\n",
       "      <td>[0, 10, 44]</td>\n",
       "      <td>0.015237</td>\n",
       "      <td>0</td>\n",
       "      <td>10</td>\n",
       "      <td>44</td>\n",
       "    </tr>\n",
       "    <tr>\n",
       "      <th>593</th>\n",
       "      <td>[0, 10, 44]</td>\n",
       "      <td>0.094791</td>\n",
       "      <td>0</td>\n",
       "      <td>10</td>\n",
       "      <td>44</td>\n",
       "    </tr>\n",
       "    <tr>\n",
       "      <th>1662</th>\n",
       "      <td>[0, 10, 49]</td>\n",
       "      <td>0.236417</td>\n",
       "      <td>0</td>\n",
       "      <td>10</td>\n",
       "      <td>49</td>\n",
       "    </tr>\n",
       "    <tr>\n",
       "      <th>...</th>\n",
       "      <td>...</td>\n",
       "      <td>...</td>\n",
       "      <td>...</td>\n",
       "      <td>...</td>\n",
       "      <td>...</td>\n",
       "    </tr>\n",
       "    <tr>\n",
       "      <th>91</th>\n",
       "      <td>[9, 55, 62]</td>\n",
       "      <td>0.572551</td>\n",
       "      <td>9</td>\n",
       "      <td>55</td>\n",
       "      <td>62</td>\n",
       "    </tr>\n",
       "    <tr>\n",
       "      <th>659</th>\n",
       "      <td>[9, 56, 62]</td>\n",
       "      <td>0.054476</td>\n",
       "      <td>9</td>\n",
       "      <td>56</td>\n",
       "      <td>62</td>\n",
       "    </tr>\n",
       "    <tr>\n",
       "      <th>710</th>\n",
       "      <td>[9, 62, 63]</td>\n",
       "      <td>0.023185</td>\n",
       "      <td>9</td>\n",
       "      <td>62</td>\n",
       "      <td>63</td>\n",
       "    </tr>\n",
       "    <tr>\n",
       "      <th>79</th>\n",
       "      <td>[9, 62, 63]</td>\n",
       "      <td>0.630901</td>\n",
       "      <td>9</td>\n",
       "      <td>62</td>\n",
       "      <td>63</td>\n",
       "    </tr>\n",
       "    <tr>\n",
       "      <th>918</th>\n",
       "      <td>[9, 66, 69]</td>\n",
       "      <td>0.019540</td>\n",
       "      <td>9</td>\n",
       "      <td>66</td>\n",
       "      <td>69</td>\n",
       "    </tr>\n",
       "  </tbody>\n",
       "</table>\n",
       "<p>2000 rows × 5 columns</p>\n",
       "</div>"
      ],
      "text/plain": [
       "                1         2  A   B   C\n",
       "1089  [0, 10, 20]  0.018487  0  10  20\n",
       "1985  [0, 10, 37]  0.236417  0  10  37\n",
       "1212  [0, 10, 44]  0.015237  0  10  44\n",
       "593   [0, 10, 44]  0.094791  0  10  44\n",
       "1662  [0, 10, 49]  0.236417  0  10  49\n",
       "...           ...       ... ..  ..  ..\n",
       "91    [9, 55, 62]  0.572551  9  55  62\n",
       "659   [9, 56, 62]  0.054476  9  56  62\n",
       "710   [9, 62, 63]  0.023185  9  62  63\n",
       "79    [9, 62, 63]  0.630901  9  62  63\n",
       "918   [9, 66, 69]  0.019540  9  66  69\n",
       "\n",
       "[2000 rows x 5 columns]"
      ]
     },
     "execution_count": 6,
     "metadata": {},
     "output_type": "execute_result"
    }
   ],
   "source": [
    "rank_list.sort_values(by=1)"
   ]
  },
  {
   "cell_type": "markdown",
   "id": "5cea0fd8",
   "metadata": {},
   "source": [
    "## Read all generated dfs"
   ]
  },
  {
   "cell_type": "code",
   "execution_count": 7,
   "id": "67d50cbd",
   "metadata": {},
   "outputs": [
    {
     "data": {
      "text/html": [
       "<div>\n",
       "<style scoped>\n",
       "    .dataframe tbody tr th:only-of-type {\n",
       "        vertical-align: middle;\n",
       "    }\n",
       "\n",
       "    .dataframe tbody tr th {\n",
       "        vertical-align: top;\n",
       "    }\n",
       "\n",
       "    .dataframe thead th {\n",
       "        text-align: right;\n",
       "    }\n",
       "</style>\n",
       "<table border=\"1\" class=\"dataframe\">\n",
       "  <thead>\n",
       "    <tr style=\"text-align: right;\">\n",
       "      <th></th>\n",
       "      <th>1</th>\n",
       "      <th>2</th>\n",
       "      <th>A</th>\n",
       "      <th>B</th>\n",
       "      <th>C</th>\n",
       "    </tr>\n",
       "  </thead>\n",
       "  <tbody>\n",
       "    <tr>\n",
       "      <th>0</th>\n",
       "      <td>[0, 2, 17]</td>\n",
       "      <td>0.000921</td>\n",
       "      <td>0</td>\n",
       "      <td>2</td>\n",
       "      <td>17</td>\n",
       "    </tr>\n",
       "    <tr>\n",
       "      <th>1</th>\n",
       "      <td>[0, 2, 39]</td>\n",
       "      <td>0.014385</td>\n",
       "      <td>0</td>\n",
       "      <td>2</td>\n",
       "      <td>39</td>\n",
       "    </tr>\n",
       "    <tr>\n",
       "      <th>2</th>\n",
       "      <td>[0, 8, 54]</td>\n",
       "      <td>0.002592</td>\n",
       "      <td>0</td>\n",
       "      <td>8</td>\n",
       "      <td>54</td>\n",
       "    </tr>\n",
       "    <tr>\n",
       "      <th>3</th>\n",
       "      <td>[0, 9, 12]</td>\n",
       "      <td>0.000066</td>\n",
       "      <td>0</td>\n",
       "      <td>9</td>\n",
       "      <td>12</td>\n",
       "    </tr>\n",
       "    <tr>\n",
       "      <th>4</th>\n",
       "      <td>[0, 10, 20]</td>\n",
       "      <td>0.002446</td>\n",
       "      <td>0</td>\n",
       "      <td>10</td>\n",
       "      <td>20</td>\n",
       "    </tr>\n",
       "  </tbody>\n",
       "</table>\n",
       "</div>"
      ],
      "text/plain": [
       "             1         2  A   B   C\n",
       "0   [0, 2, 17]  0.000921  0   2  17\n",
       "1   [0, 2, 39]  0.014385  0   2  39\n",
       "2   [0, 8, 54]  0.002592  0   8  54\n",
       "3   [0, 9, 12]  0.000066  0   9  12\n",
       "4  [0, 10, 20]  0.002446  0  10  20"
      ]
     },
     "execution_count": 7,
     "metadata": {},
     "output_type": "execute_result"
    }
   ],
   "source": [
    "df = pd.read_csv('temp_files/full_df_20.csv')\n",
    "df.drop('5',axis=1,inplace=True)\n",
    "df.head()"
   ]
  },
  {
   "cell_type": "code",
   "execution_count": 8,
   "id": "a579a47b",
   "metadata": {},
   "outputs": [
    {
     "data": {
      "text/plain": [
       "(66799, 5)"
      ]
     },
     "execution_count": 8,
     "metadata": {},
     "output_type": "execute_result"
    }
   ],
   "source": [
    "df.shape"
   ]
  },
  {
   "cell_type": "code",
   "execution_count": 9,
   "id": "e657dfcc",
   "metadata": {},
   "outputs": [
    {
     "data": {
      "text/plain": [
       "12450"
      ]
     },
     "execution_count": 9,
     "metadata": {},
     "output_type": "execute_result"
    }
   ],
   "source": [
    "df.duplicated().sum()"
   ]
  },
  {
   "cell_type": "code",
   "execution_count": 10,
   "id": "c683928e",
   "metadata": {},
   "outputs": [
    {
     "data": {
      "text/plain": [
       "(54349, 5)"
      ]
     },
     "execution_count": 10,
     "metadata": {},
     "output_type": "execute_result"
    }
   ],
   "source": [
    "df.drop_duplicates(inplace=True, keep='first')\n",
    "df.shape"
   ]
  },
  {
   "cell_type": "code",
   "execution_count": 11,
   "id": "c8d16670",
   "metadata": {},
   "outputs": [],
   "source": [
    "merged = df.merge(rank_list, on=['A','B','C','2'], how='inner')"
   ]
  },
  {
   "cell_type": "code",
   "execution_count": 12,
   "id": "54be1f90",
   "metadata": {},
   "outputs": [
    {
     "data": {
      "text/html": [
       "<div>\n",
       "<style scoped>\n",
       "    .dataframe tbody tr th:only-of-type {\n",
       "        vertical-align: middle;\n",
       "    }\n",
       "\n",
       "    .dataframe tbody tr th {\n",
       "        vertical-align: top;\n",
       "    }\n",
       "\n",
       "    .dataframe thead th {\n",
       "        text-align: right;\n",
       "    }\n",
       "</style>\n",
       "<table border=\"1\" class=\"dataframe\">\n",
       "  <thead>\n",
       "    <tr style=\"text-align: right;\">\n",
       "      <th></th>\n",
       "      <th>1</th>\n",
       "      <th>2</th>\n",
       "      <th>A</th>\n",
       "      <th>B</th>\n",
       "      <th>C</th>\n",
       "      <th>1</th>\n",
       "    </tr>\n",
       "  </thead>\n",
       "  <tbody>\n",
       "    <tr>\n",
       "      <th>0</th>\n",
       "      <td>[1, 25, 59]</td>\n",
       "      <td>0.017215</td>\n",
       "      <td>1</td>\n",
       "      <td>25</td>\n",
       "      <td>59</td>\n",
       "      <td>[1, 25, 59]</td>\n",
       "    </tr>\n",
       "    <tr>\n",
       "      <th>1</th>\n",
       "      <td>[11, 35, 44]</td>\n",
       "      <td>0.047974</td>\n",
       "      <td>11</td>\n",
       "      <td>35</td>\n",
       "      <td>44</td>\n",
       "      <td>[11, 35, 44]</td>\n",
       "    </tr>\n",
       "    <tr>\n",
       "      <th>2</th>\n",
       "      <td>[22, 44, 51]</td>\n",
       "      <td>0.022566</td>\n",
       "      <td>22</td>\n",
       "      <td>44</td>\n",
       "      <td>51</td>\n",
       "      <td>[22, 44, 51]</td>\n",
       "    </tr>\n",
       "    <tr>\n",
       "      <th>3</th>\n",
       "      <td>[38, 46, 47]</td>\n",
       "      <td>0.027219</td>\n",
       "      <td>38</td>\n",
       "      <td>46</td>\n",
       "      <td>47</td>\n",
       "      <td>[38, 46, 47]</td>\n",
       "    </tr>\n",
       "    <tr>\n",
       "      <th>4</th>\n",
       "      <td>[45, 49, 56]</td>\n",
       "      <td>0.026894</td>\n",
       "      <td>45</td>\n",
       "      <td>49</td>\n",
       "      <td>56</td>\n",
       "      <td>[45, 49, 56]</td>\n",
       "    </tr>\n",
       "    <tr>\n",
       "      <th>...</th>\n",
       "      <td>...</td>\n",
       "      <td>...</td>\n",
       "      <td>...</td>\n",
       "      <td>...</td>\n",
       "      <td>...</td>\n",
       "      <td>...</td>\n",
       "    </tr>\n",
       "    <tr>\n",
       "      <th>704</th>\n",
       "      <td>[40, 51, 52]</td>\n",
       "      <td>0.630901</td>\n",
       "      <td>40</td>\n",
       "      <td>51</td>\n",
       "      <td>52</td>\n",
       "      <td>[40, 51, 52]</td>\n",
       "    </tr>\n",
       "    <tr>\n",
       "      <th>705</th>\n",
       "      <td>[40, 52, 63]</td>\n",
       "      <td>0.630901</td>\n",
       "      <td>40</td>\n",
       "      <td>52</td>\n",
       "      <td>63</td>\n",
       "      <td>[40, 52, 63]</td>\n",
       "    </tr>\n",
       "    <tr>\n",
       "      <th>706</th>\n",
       "      <td>[41, 52, 63]</td>\n",
       "      <td>0.630901</td>\n",
       "      <td>41</td>\n",
       "      <td>52</td>\n",
       "      <td>63</td>\n",
       "      <td>[41, 52, 63]</td>\n",
       "    </tr>\n",
       "    <tr>\n",
       "      <th>707</th>\n",
       "      <td>[51, 52, 59]</td>\n",
       "      <td>0.630901</td>\n",
       "      <td>51</td>\n",
       "      <td>52</td>\n",
       "      <td>59</td>\n",
       "      <td>[51, 52, 59]</td>\n",
       "    </tr>\n",
       "    <tr>\n",
       "      <th>708</th>\n",
       "      <td>[52, 63, 64]</td>\n",
       "      <td>0.630901</td>\n",
       "      <td>52</td>\n",
       "      <td>63</td>\n",
       "      <td>64</td>\n",
       "      <td>[52, 63, 64]</td>\n",
       "    </tr>\n",
       "  </tbody>\n",
       "</table>\n",
       "<p>709 rows × 6 columns</p>\n",
       "</div>"
      ],
      "text/plain": [
       "                1         2   A   B   C             1\n",
       "0     [1, 25, 59]  0.017215   1  25  59   [1, 25, 59]\n",
       "1    [11, 35, 44]  0.047974  11  35  44  [11, 35, 44]\n",
       "2    [22, 44, 51]  0.022566  22  44  51  [22, 44, 51]\n",
       "3    [38, 46, 47]  0.027219  38  46  47  [38, 46, 47]\n",
       "4    [45, 49, 56]  0.026894  45  49  56  [45, 49, 56]\n",
       "..            ...       ...  ..  ..  ..           ...\n",
       "704  [40, 51, 52]  0.630901  40  51  52  [40, 51, 52]\n",
       "705  [40, 52, 63]  0.630901  40  52  63  [40, 52, 63]\n",
       "706  [41, 52, 63]  0.630901  41  52  63  [41, 52, 63]\n",
       "707  [51, 52, 59]  0.630901  51  52  59  [51, 52, 59]\n",
       "708  [52, 63, 64]  0.630901  52  63  64  [52, 63, 64]\n",
       "\n",
       "[709 rows x 6 columns]"
      ]
     },
     "execution_count": 12,
     "metadata": {},
     "output_type": "execute_result"
    }
   ],
   "source": [
    "merged"
   ]
  },
  {
   "cell_type": "code",
   "execution_count": 13,
   "id": "4ca33a20",
   "metadata": {},
   "outputs": [
    {
     "ename": "ZeroDivisionError",
     "evalue": "division by zero",
     "output_type": "error",
     "traceback": [
      "\u001b[1;31m---------------------------------------------------------------------------\u001b[0m",
      "\u001b[1;31mZeroDivisionError\u001b[0m                         Traceback (most recent call last)",
      "Cell \u001b[1;32mIn[13], line 1\u001b[0m\n\u001b[1;32m----> 1\u001b[0m \u001b[38;5;241m1\u001b[39m\u001b[38;5;241m/\u001b[39m\u001b[38;5;241m0\u001b[39m\n",
      "\u001b[1;31mZeroDivisionError\u001b[0m: division by zero"
     ]
    }
   ],
   "source": [
    "1/0"
   ]
  },
  {
   "cell_type": "code",
   "execution_count": null,
   "id": "cc77f188",
   "metadata": {},
   "outputs": [],
   "source": []
  },
  {
   "cell_type": "code",
   "execution_count": null,
   "id": "34788efa",
   "metadata": {},
   "outputs": [],
   "source": []
  },
  {
   "cell_type": "code",
   "execution_count": null,
   "id": "fc6e4060",
   "metadata": {},
   "outputs": [],
   "source": []
  },
  {
   "cell_type": "code",
   "execution_count": null,
   "id": "414a2dcb",
   "metadata": {},
   "outputs": [],
   "source": []
  },
  {
   "cell_type": "code",
   "execution_count": null,
   "id": "9ce5f4dc",
   "metadata": {},
   "outputs": [],
   "source": [
    "df[df['1'] == rank_list[1][0]]"
   ]
  },
  {
   "cell_type": "code",
   "execution_count": null,
   "id": "c48569a7",
   "metadata": {},
   "outputs": [],
   "source": []
  },
  {
   "cell_type": "code",
   "execution_count": null,
   "id": "cd6a7075",
   "metadata": {},
   "outputs": [],
   "source": []
  },
  {
   "cell_type": "code",
   "execution_count": null,
   "id": "aa6dcf0d",
   "metadata": {},
   "outputs": [],
   "source": []
  },
  {
   "cell_type": "code",
   "execution_count": null,
   "id": "6e524bfe",
   "metadata": {},
   "outputs": [],
   "source": []
  },
  {
   "cell_type": "code",
   "execution_count": null,
   "id": "8a118d02",
   "metadata": {},
   "outputs": [],
   "source": []
  },
  {
   "cell_type": "code",
   "execution_count": null,
   "id": "86c3190a",
   "metadata": {},
   "outputs": [],
   "source": []
  },
  {
   "cell_type": "code",
   "execution_count": null,
   "id": "0c1ca01e",
   "metadata": {},
   "outputs": [],
   "source": []
  },
  {
   "cell_type": "code",
   "execution_count": null,
   "id": "b68b0c81",
   "metadata": {},
   "outputs": [],
   "source": []
  },
  {
   "cell_type": "code",
   "execution_count": null,
   "id": "4bf4dec3",
   "metadata": {},
   "outputs": [],
   "source": []
  },
  {
   "cell_type": "code",
   "execution_count": null,
   "id": "661873ae",
   "metadata": {},
   "outputs": [],
   "source": []
  },
  {
   "cell_type": "code",
   "execution_count": null,
   "id": "15bcb7c0",
   "metadata": {},
   "outputs": [],
   "source": []
  },
  {
   "cell_type": "code",
   "execution_count": null,
   "id": "78f0decd",
   "metadata": {},
   "outputs": [],
   "source": []
  },
  {
   "cell_type": "code",
   "execution_count": null,
   "id": "5e6aab6d",
   "metadata": {},
   "outputs": [],
   "source": []
  },
  {
   "cell_type": "code",
   "execution_count": null,
   "id": "6ab360e0",
   "metadata": {},
   "outputs": [],
   "source": []
  },
  {
   "cell_type": "code",
   "execution_count": null,
   "id": "c4960403",
   "metadata": {},
   "outputs": [],
   "source": []
  },
  {
   "cell_type": "code",
   "execution_count": null,
   "id": "8aa34b0c",
   "metadata": {},
   "outputs": [],
   "source": []
  },
  {
   "cell_type": "code",
   "execution_count": null,
   "id": "fe2b722a",
   "metadata": {},
   "outputs": [],
   "source": []
  },
  {
   "cell_type": "code",
   "execution_count": null,
   "id": "279e3e88",
   "metadata": {},
   "outputs": [],
   "source": []
  },
  {
   "cell_type": "code",
   "execution_count": null,
   "id": "2922e4f7",
   "metadata": {},
   "outputs": [],
   "source": [
    "rank_list[1] = rank_list[1].astype(str)"
   ]
  },
  {
   "cell_type": "code",
   "execution_count": null,
   "id": "7ca02c64",
   "metadata": {},
   "outputs": [],
   "source": [
    "df[df['1'].isin(rank_list[1])]"
   ]
  },
  {
   "cell_type": "code",
   "execution_count": null,
   "id": "f94e72d8",
   "metadata": {},
   "outputs": [],
   "source": []
  },
  {
   "cell_type": "code",
   "execution_count": null,
   "id": "5addaceb",
   "metadata": {},
   "outputs": [],
   "source": [
    "X = _create_sparse_df(rank_list)\n",
    "X.head(2)"
   ]
  },
  {
   "cell_type": "code",
   "execution_count": null,
   "id": "f413e611",
   "metadata": {},
   "outputs": [],
   "source": [
    "# calculate the sum of every column\n",
    "col_sum = X.sum()\n",
    "pd.DataFrame(col_sum).sort_values(by=0, ascending=False)"
   ]
  },
  {
   "cell_type": "code",
   "execution_count": null,
   "id": "bebcc084",
   "metadata": {},
   "outputs": [],
   "source": [
    "zzz"
   ]
  }
 ],
 "metadata": {
  "kernelspec": {
   "display_name": "Python 3 (ipykernel)",
   "language": "python",
   "name": "python3"
  },
  "language_info": {
   "codemirror_mode": {
    "name": "ipython",
    "version": 3
   },
   "file_extension": ".py",
   "mimetype": "text/x-python",
   "name": "python",
   "nbconvert_exporter": "python",
   "pygments_lexer": "ipython3",
   "version": "3.11.2"
  }
 },
 "nbformat": 4,
 "nbformat_minor": 5
}
